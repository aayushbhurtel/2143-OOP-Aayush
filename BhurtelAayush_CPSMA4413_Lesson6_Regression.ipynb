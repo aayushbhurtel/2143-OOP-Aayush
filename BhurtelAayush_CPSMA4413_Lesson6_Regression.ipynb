{
  "cells": [
    {
      "cell_type": "markdown",
      "metadata": {
        "id": "view-in-github",
        "colab_type": "text"
      },
      "source": [
        "<a href=\"https://colab.research.google.com/github/aayushbhurtel/2143-OOP-Aayush/blob/main/BhurtelAayush_CPSMA4413_Lesson6_Regression.ipynb\" target=\"_parent\"><img src=\"https://colab.research.google.com/assets/colab-badge.svg\" alt=\"Open In Colab\"/></a>"
      ]
    },
    {
      "cell_type": "markdown",
      "id": "375832a7",
      "metadata": {
        "id": "375832a7"
      },
      "source": [
        "# Module 6 Project"
      ]
    },
    {
      "cell_type": "markdown",
      "id": "b9f1bee1",
      "metadata": {
        "id": "b9f1bee1"
      },
      "source": [
        "Numerical Method CPSMA 441 Prof: Nicholas Jacobs\n",
        "\n",
        "Member(s): Hoang Tan Truong, Aakriti Khadka, Aayush Bhurtel, Jordan Moreno\n",
        " "
      ]
    },
    {
      "cell_type": "markdown",
      "source": [
        "First we load all the necessary libraries in this project. We keep on adding more libraries when needed."
      ],
      "metadata": {
        "id": "90_WG1SLNNju"
      },
      "id": "90_WG1SLNNju"
    },
    {
      "cell_type": "code",
      "source": [
        "import math\n",
        "import numpy as np\n",
        "from scipy import stats\n",
        "import matplotlib.pyplot as plt\n",
        "import pandas as pa\n",
        "\n"
      ],
      "metadata": {
        "id": "OsoYn5PYNbOG"
      },
      "id": "OsoYn5PYNbOG",
      "execution_count": 34,
      "outputs": []
    },
    {
      "cell_type": "markdown",
      "id": "5ffec5bd",
      "metadata": {
        "id": "5ffec5bd"
      },
      "source": [
        "For future use, we'll also include Gauss Jordan and the set of data that we've picked is student.csv from Prof. Jacobs Github repo"
      ]
    },
    {
      "cell_type": "code",
      "execution_count": 35,
      "id": "433cc374",
      "metadata": {
        "id": "433cc374"
      },
      "outputs": [],
      "source": [
        "\n",
        "def addRow(matrx, row, toAdd, multiplier):\n",
        "    temp = matrx.copy()\n",
        "    for i in range(len(matrx[row, :])):\n",
        "        temp[row, i] = temp[row, i] + multiplier*temp[toAdd, i]\n",
        "    return np.array(temp)\n",
        "\n",
        "def toLeading1(matrx, row, col):\n",
        "    temp = matrx.copy()\n",
        "    temp = np.array(temp, float)\n",
        "    if (temp[row, col] != 0):\n",
        "        temp[row, :] = temp[row, :]/temp[row, col]\n",
        "    return np.array(temp)\n",
        "\n",
        "def gauss_Jordan(matrix):\n",
        "  newMatrix = matrix\n",
        "  for pivot in range(len(matrix)):\n",
        "    newMatrix = toLeading1(newMatrix,pivot,pivot)\n",
        "    for column in range(0,pivot):\n",
        "      newMatrix = addRow(newMatrix,column,pivot,-newMatrix[column,pivot])\n",
        "    for column in range(pivot+1,len(matrix)):\n",
        "      newMatrix = addRow(newMatrix,column,pivot,-newMatrix[column,pivot])\n",
        "  return newMatrix\n",
        "\n",
        "def function(x):\n",
        "    return np.log(x+1)\n",
        "\n",
        "\n"
      ]
    },
    {
      "cell_type": "markdown",
      "id": "56e15a56",
      "metadata": {
        "id": "56e15a56"
      },
      "source": [
        "Here is the set data for better visualization \n",
        "\n",
        "We load the student dataset from a CSV file using pandas."
      ]
    },
    {
      "cell_type": "code",
      "execution_count": 36,
      "id": "cc51b1d1",
      "metadata": {
        "id": "cc51b1d1"
      },
      "outputs": [],
      "source": [
        "data = pa.read_csv('https://raw.githubusercontent.com/nurfnick/Applied_Stats_Jupyter_Notebooks/master/student.csv')"
      ]
    },
    {
      "cell_type": "markdown",
      "source": [
        "lets display 10 data from the dataset"
      ],
      "metadata": {
        "id": "pbOtdfRIPdbX"
      },
      "id": "pbOtdfRIPdbX"
    },
    {
      "cell_type": "code",
      "execution_count": 37,
      "id": "181384ec",
      "metadata": {
        "scrolled": false,
        "colab": {
          "base_uri": "https://localhost:8080/",
          "height": 363
        },
        "id": "181384ec",
        "outputId": "e76df86f-ee53-4d42-ee85-4142f33b5ecf"
      },
      "outputs": [
        {
          "output_type": "execute_result",
          "data": {
            "text/plain": [
              "        Year Gender Smoke    Award HigherSAT  Exercise    TV  Height  Weight  \\\n",
              "0     Senior      M    No  Olympic      Math      10.0   1.0    71.0   180.0   \n",
              "1  Sophomore      F   Yes  Academy      Math       4.0   7.0    66.0   120.0   \n",
              "2  FirstYear      M    No    Nobel      Math      14.0   5.0    72.0   208.0   \n",
              "3     Junior      M    No    Nobel      Math       3.0   1.0    63.0   110.0   \n",
              "4  Sophomore      F    No    Nobel    Verbal       3.0   3.0    65.0   150.0   \n",
              "5  Sophomore      F    No    Nobel    Verbal       5.0   4.0    65.0   114.0   \n",
              "6  FirstYear      F    No  Olympic      Math      10.0  10.0    66.0   128.0   \n",
              "7  Sophomore      M    No  Olympic      Math      13.0   8.0    74.0   235.0   \n",
              "8     Junior      F    No    Nobel    Verbal       3.0   6.0    61.0     NaN   \n",
              "9  FirstYear      F    No    Nobel      Math      12.0   1.0    60.0   115.0   \n",
              "\n",
              "   Siblings  BirthOrder  VerbalSAT  MathSAT   SAT   GPA  Pulse  Piercings  \n",
              "0         4         4.0        540      670  1210  3.13     54        0.0  \n",
              "1         2         2.0        520      630  1150  2.50     66        3.0  \n",
              "2         2         1.0        550      560  1110  2.55    130        0.0  \n",
              "3         1         1.0        490      630  1120  3.10     78        0.0  \n",
              "4         1         1.0        720      450  1170  2.70     40        6.0  \n",
              "5         2         2.0        600      550  1150  3.20     80        4.0  \n",
              "6         1         1.0        640      680  1320  2.77     94        8.0  \n",
              "7         1         1.0        660      710  1370  3.30     77        0.0  \n",
              "8         2         2.0        550      550  1100  2.80     60        7.0  \n",
              "9         7         8.0        670      700  1370  3.70     94        2.0  "
            ],
            "text/html": [
              "\n",
              "  <div id=\"df-3f73a0c4-9f56-4281-b0af-7ffc34e08159\">\n",
              "    <div class=\"colab-df-container\">\n",
              "      <div>\n",
              "<style scoped>\n",
              "    .dataframe tbody tr th:only-of-type {\n",
              "        vertical-align: middle;\n",
              "    }\n",
              "\n",
              "    .dataframe tbody tr th {\n",
              "        vertical-align: top;\n",
              "    }\n",
              "\n",
              "    .dataframe thead th {\n",
              "        text-align: right;\n",
              "    }\n",
              "</style>\n",
              "<table border=\"1\" class=\"dataframe\">\n",
              "  <thead>\n",
              "    <tr style=\"text-align: right;\">\n",
              "      <th></th>\n",
              "      <th>Year</th>\n",
              "      <th>Gender</th>\n",
              "      <th>Smoke</th>\n",
              "      <th>Award</th>\n",
              "      <th>HigherSAT</th>\n",
              "      <th>Exercise</th>\n",
              "      <th>TV</th>\n",
              "      <th>Height</th>\n",
              "      <th>Weight</th>\n",
              "      <th>Siblings</th>\n",
              "      <th>BirthOrder</th>\n",
              "      <th>VerbalSAT</th>\n",
              "      <th>MathSAT</th>\n",
              "      <th>SAT</th>\n",
              "      <th>GPA</th>\n",
              "      <th>Pulse</th>\n",
              "      <th>Piercings</th>\n",
              "    </tr>\n",
              "  </thead>\n",
              "  <tbody>\n",
              "    <tr>\n",
              "      <th>0</th>\n",
              "      <td>Senior</td>\n",
              "      <td>M</td>\n",
              "      <td>No</td>\n",
              "      <td>Olympic</td>\n",
              "      <td>Math</td>\n",
              "      <td>10.0</td>\n",
              "      <td>1.0</td>\n",
              "      <td>71.0</td>\n",
              "      <td>180.0</td>\n",
              "      <td>4</td>\n",
              "      <td>4.0</td>\n",
              "      <td>540</td>\n",
              "      <td>670</td>\n",
              "      <td>1210</td>\n",
              "      <td>3.13</td>\n",
              "      <td>54</td>\n",
              "      <td>0.0</td>\n",
              "    </tr>\n",
              "    <tr>\n",
              "      <th>1</th>\n",
              "      <td>Sophomore</td>\n",
              "      <td>F</td>\n",
              "      <td>Yes</td>\n",
              "      <td>Academy</td>\n",
              "      <td>Math</td>\n",
              "      <td>4.0</td>\n",
              "      <td>7.0</td>\n",
              "      <td>66.0</td>\n",
              "      <td>120.0</td>\n",
              "      <td>2</td>\n",
              "      <td>2.0</td>\n",
              "      <td>520</td>\n",
              "      <td>630</td>\n",
              "      <td>1150</td>\n",
              "      <td>2.50</td>\n",
              "      <td>66</td>\n",
              "      <td>3.0</td>\n",
              "    </tr>\n",
              "    <tr>\n",
              "      <th>2</th>\n",
              "      <td>FirstYear</td>\n",
              "      <td>M</td>\n",
              "      <td>No</td>\n",
              "      <td>Nobel</td>\n",
              "      <td>Math</td>\n",
              "      <td>14.0</td>\n",
              "      <td>5.0</td>\n",
              "      <td>72.0</td>\n",
              "      <td>208.0</td>\n",
              "      <td>2</td>\n",
              "      <td>1.0</td>\n",
              "      <td>550</td>\n",
              "      <td>560</td>\n",
              "      <td>1110</td>\n",
              "      <td>2.55</td>\n",
              "      <td>130</td>\n",
              "      <td>0.0</td>\n",
              "    </tr>\n",
              "    <tr>\n",
              "      <th>3</th>\n",
              "      <td>Junior</td>\n",
              "      <td>M</td>\n",
              "      <td>No</td>\n",
              "      <td>Nobel</td>\n",
              "      <td>Math</td>\n",
              "      <td>3.0</td>\n",
              "      <td>1.0</td>\n",
              "      <td>63.0</td>\n",
              "      <td>110.0</td>\n",
              "      <td>1</td>\n",
              "      <td>1.0</td>\n",
              "      <td>490</td>\n",
              "      <td>630</td>\n",
              "      <td>1120</td>\n",
              "      <td>3.10</td>\n",
              "      <td>78</td>\n",
              "      <td>0.0</td>\n",
              "    </tr>\n",
              "    <tr>\n",
              "      <th>4</th>\n",
              "      <td>Sophomore</td>\n",
              "      <td>F</td>\n",
              "      <td>No</td>\n",
              "      <td>Nobel</td>\n",
              "      <td>Verbal</td>\n",
              "      <td>3.0</td>\n",
              "      <td>3.0</td>\n",
              "      <td>65.0</td>\n",
              "      <td>150.0</td>\n",
              "      <td>1</td>\n",
              "      <td>1.0</td>\n",
              "      <td>720</td>\n",
              "      <td>450</td>\n",
              "      <td>1170</td>\n",
              "      <td>2.70</td>\n",
              "      <td>40</td>\n",
              "      <td>6.0</td>\n",
              "    </tr>\n",
              "    <tr>\n",
              "      <th>5</th>\n",
              "      <td>Sophomore</td>\n",
              "      <td>F</td>\n",
              "      <td>No</td>\n",
              "      <td>Nobel</td>\n",
              "      <td>Verbal</td>\n",
              "      <td>5.0</td>\n",
              "      <td>4.0</td>\n",
              "      <td>65.0</td>\n",
              "      <td>114.0</td>\n",
              "      <td>2</td>\n",
              "      <td>2.0</td>\n",
              "      <td>600</td>\n",
              "      <td>550</td>\n",
              "      <td>1150</td>\n",
              "      <td>3.20</td>\n",
              "      <td>80</td>\n",
              "      <td>4.0</td>\n",
              "    </tr>\n",
              "    <tr>\n",
              "      <th>6</th>\n",
              "      <td>FirstYear</td>\n",
              "      <td>F</td>\n",
              "      <td>No</td>\n",
              "      <td>Olympic</td>\n",
              "      <td>Math</td>\n",
              "      <td>10.0</td>\n",
              "      <td>10.0</td>\n",
              "      <td>66.0</td>\n",
              "      <td>128.0</td>\n",
              "      <td>1</td>\n",
              "      <td>1.0</td>\n",
              "      <td>640</td>\n",
              "      <td>680</td>\n",
              "      <td>1320</td>\n",
              "      <td>2.77</td>\n",
              "      <td>94</td>\n",
              "      <td>8.0</td>\n",
              "    </tr>\n",
              "    <tr>\n",
              "      <th>7</th>\n",
              "      <td>Sophomore</td>\n",
              "      <td>M</td>\n",
              "      <td>No</td>\n",
              "      <td>Olympic</td>\n",
              "      <td>Math</td>\n",
              "      <td>13.0</td>\n",
              "      <td>8.0</td>\n",
              "      <td>74.0</td>\n",
              "      <td>235.0</td>\n",
              "      <td>1</td>\n",
              "      <td>1.0</td>\n",
              "      <td>660</td>\n",
              "      <td>710</td>\n",
              "      <td>1370</td>\n",
              "      <td>3.30</td>\n",
              "      <td>77</td>\n",
              "      <td>0.0</td>\n",
              "    </tr>\n",
              "    <tr>\n",
              "      <th>8</th>\n",
              "      <td>Junior</td>\n",
              "      <td>F</td>\n",
              "      <td>No</td>\n",
              "      <td>Nobel</td>\n",
              "      <td>Verbal</td>\n",
              "      <td>3.0</td>\n",
              "      <td>6.0</td>\n",
              "      <td>61.0</td>\n",
              "      <td>NaN</td>\n",
              "      <td>2</td>\n",
              "      <td>2.0</td>\n",
              "      <td>550</td>\n",
              "      <td>550</td>\n",
              "      <td>1100</td>\n",
              "      <td>2.80</td>\n",
              "      <td>60</td>\n",
              "      <td>7.0</td>\n",
              "    </tr>\n",
              "    <tr>\n",
              "      <th>9</th>\n",
              "      <td>FirstYear</td>\n",
              "      <td>F</td>\n",
              "      <td>No</td>\n",
              "      <td>Nobel</td>\n",
              "      <td>Math</td>\n",
              "      <td>12.0</td>\n",
              "      <td>1.0</td>\n",
              "      <td>60.0</td>\n",
              "      <td>115.0</td>\n",
              "      <td>7</td>\n",
              "      <td>8.0</td>\n",
              "      <td>670</td>\n",
              "      <td>700</td>\n",
              "      <td>1370</td>\n",
              "      <td>3.70</td>\n",
              "      <td>94</td>\n",
              "      <td>2.0</td>\n",
              "    </tr>\n",
              "  </tbody>\n",
              "</table>\n",
              "</div>\n",
              "      <button class=\"colab-df-convert\" onclick=\"convertToInteractive('df-3f73a0c4-9f56-4281-b0af-7ffc34e08159')\"\n",
              "              title=\"Convert this dataframe to an interactive table.\"\n",
              "              style=\"display:none;\">\n",
              "        \n",
              "  <svg xmlns=\"http://www.w3.org/2000/svg\" height=\"24px\"viewBox=\"0 0 24 24\"\n",
              "       width=\"24px\">\n",
              "    <path d=\"M0 0h24v24H0V0z\" fill=\"none\"/>\n",
              "    <path d=\"M18.56 5.44l.94 2.06.94-2.06 2.06-.94-2.06-.94-.94-2.06-.94 2.06-2.06.94zm-11 1L8.5 8.5l.94-2.06 2.06-.94-2.06-.94L8.5 2.5l-.94 2.06-2.06.94zm10 10l.94 2.06.94-2.06 2.06-.94-2.06-.94-.94-2.06-.94 2.06-2.06.94z\"/><path d=\"M17.41 7.96l-1.37-1.37c-.4-.4-.92-.59-1.43-.59-.52 0-1.04.2-1.43.59L10.3 9.45l-7.72 7.72c-.78.78-.78 2.05 0 2.83L4 21.41c.39.39.9.59 1.41.59.51 0 1.02-.2 1.41-.59l7.78-7.78 2.81-2.81c.8-.78.8-2.07 0-2.86zM5.41 20L4 18.59l7.72-7.72 1.47 1.35L5.41 20z\"/>\n",
              "  </svg>\n",
              "      </button>\n",
              "      \n",
              "  <style>\n",
              "    .colab-df-container {\n",
              "      display:flex;\n",
              "      flex-wrap:wrap;\n",
              "      gap: 12px;\n",
              "    }\n",
              "\n",
              "    .colab-df-convert {\n",
              "      background-color: #E8F0FE;\n",
              "      border: none;\n",
              "      border-radius: 50%;\n",
              "      cursor: pointer;\n",
              "      display: none;\n",
              "      fill: #1967D2;\n",
              "      height: 32px;\n",
              "      padding: 0 0 0 0;\n",
              "      width: 32px;\n",
              "    }\n",
              "\n",
              "    .colab-df-convert:hover {\n",
              "      background-color: #E2EBFA;\n",
              "      box-shadow: 0px 1px 2px rgba(60, 64, 67, 0.3), 0px 1px 3px 1px rgba(60, 64, 67, 0.15);\n",
              "      fill: #174EA6;\n",
              "    }\n",
              "\n",
              "    [theme=dark] .colab-df-convert {\n",
              "      background-color: #3B4455;\n",
              "      fill: #D2E3FC;\n",
              "    }\n",
              "\n",
              "    [theme=dark] .colab-df-convert:hover {\n",
              "      background-color: #434B5C;\n",
              "      box-shadow: 0px 1px 3px 1px rgba(0, 0, 0, 0.15);\n",
              "      filter: drop-shadow(0px 1px 2px rgba(0, 0, 0, 0.3));\n",
              "      fill: #FFFFFF;\n",
              "    }\n",
              "  </style>\n",
              "\n",
              "      <script>\n",
              "        const buttonEl =\n",
              "          document.querySelector('#df-3f73a0c4-9f56-4281-b0af-7ffc34e08159 button.colab-df-convert');\n",
              "        buttonEl.style.display =\n",
              "          google.colab.kernel.accessAllowed ? 'block' : 'none';\n",
              "\n",
              "        async function convertToInteractive(key) {\n",
              "          const element = document.querySelector('#df-3f73a0c4-9f56-4281-b0af-7ffc34e08159');\n",
              "          const dataTable =\n",
              "            await google.colab.kernel.invokeFunction('convertToInteractive',\n",
              "                                                     [key], {});\n",
              "          if (!dataTable) return;\n",
              "\n",
              "          const docLinkHtml = 'Like what you see? Visit the ' +\n",
              "            '<a target=\"_blank\" href=https://colab.research.google.com/notebooks/data_table.ipynb>data table notebook</a>'\n",
              "            + ' to learn more about interactive tables.';\n",
              "          element.innerHTML = '';\n",
              "          dataTable['output_type'] = 'display_data';\n",
              "          await google.colab.output.renderOutput(dataTable, element);\n",
              "          const docLink = document.createElement('div');\n",
              "          docLink.innerHTML = docLinkHtml;\n",
              "          element.appendChild(docLink);\n",
              "        }\n",
              "      </script>\n",
              "    </div>\n",
              "  </div>\n",
              "  "
            ]
          },
          "metadata": {},
          "execution_count": 37
        }
      ],
      "source": [
        "data.head(10)"
      ]
    },
    {
      "cell_type": "markdown",
      "id": "f1aca3da",
      "metadata": {
        "id": "f1aca3da"
      },
      "source": [
        "MathSAT and SAT are linearly related since the sum of MathSAT and VerbalSAT is SAT. Here's the graph that has the point of (MathSAT and VerbalSAT) and SAT to see that they are identical."
      ]
    },
    {
      "cell_type": "code",
      "execution_count": 38,
      "id": "70239a87",
      "metadata": {
        "colab": {
          "base_uri": "https://localhost:8080/",
          "height": 472
        },
        "id": "70239a87",
        "outputId": "f7284074-53a7-4c94-e3bf-98ac2f55f329"
      },
      "outputs": [
        {
          "output_type": "display_data",
          "data": {
            "text/plain": [
              "<Figure size 640x480 with 1 Axes>"
            ],
            "image/png": "[encoded data removed]"
          },
          "metadata": {}
        }
      ],
      "source": [
        "plt.scatter(data['VerbalSAT']+ data['MathSAT'], data['SAT'])\n",
        "plt.xlabel('Combined SAT Scores (Verbal + Math)')\n",
        "plt.ylabel('Overall SAT Scores')\n",
        "plt.title('Relationship between Combined and Overall SAT Scores')\n",
        "plt.show()"
      ]
    },
    {
      "cell_type": "markdown",
      "id": "94fc5706",
      "metadata": {
        "id": "94fc5706"
      },
      "source": [
        "The two rows that we'll focus for now is MathSAT and SAT. Now let's see them in the graph."
      ]
    },
    {
      "cell_type": "code",
      "execution_count": 39,
      "id": "adbb511a",
      "metadata": {
        "scrolled": false,
        "colab": {
          "base_uri": "https://localhost:8080/",
          "height": 449
        },
        "id": "adbb511a",
        "outputId": "56260fc6-2751-4931-df17-e052a8416765"
      },
      "outputs": [
        {
          "output_type": "display_data",
          "data": {
            "text/plain": [
              "<Figure size 640x480 with 1 Axes>"
            ],
            "image/png": "[encoded data removed]"
          },
          "metadata": {}
        }
      ],
      "source": [
        "plt.scatter(data['MathSAT'], data['SAT'])\n",
        "plt.xlabel('MathSAT')\n",
        "plt.ylabel('SAT')\n",
        "plt.show()"
      ]
    },
    {
      "cell_type": "markdown",
      "id": "99a696ae",
      "metadata": {
        "id": "99a696ae"
      },
      "source": [
        "# Linear Regression"
      ]
    },
    {
      "cell_type": "markdown",
      "id": "7cb24a59",
      "metadata": {
        "id": "7cb24a59"
      },
      "source": [
        "We can go ahead and find the regression by using the built in function from the package scipy so that we can compare them later to our regression function."
      ]
    },
    {
      "cell_type": "code",
      "execution_count": 40,
      "id": "c10b0340",
      "metadata": {
        "colab": {
          "base_uri": "https://localhost:8080/"
        },
        "id": "c10b0340",
        "outputId": "df298bf9-d8d7-4720-fe13-ba2c6f62e170"
      },
      "outputs": [
        {
          "output_type": "execute_result",
          "data": {
            "text/plain": [
              "LinregressResult(slope=1.4814731127631733, intercept=300.7633363387839, rvalue=0.8365916602784129, pvalue=4.093448362145017e-96, stderr=0.05112960119117141, intercept_stderr=31.355860418185074)"
            ]
          },
          "metadata": {},
          "execution_count": 40
        }
      ],
      "source": [
        "stats.linregress(data['MathSAT'], data['SAT'])"
      ]
    },
    {
      "cell_type": "markdown",
      "id": "ccc065dc",
      "metadata": {
        "id": "ccc065dc"
      },
      "source": [
        "Before we get started with the regression function, we will need to make a function that calculates the sum of product of two number from two list. I'll also include a statement that does the same thing that we'll use instead of the function ."
      ]
    },
    {
      "cell_type": "code",
      "execution_count": 41,
      "id": "4592e16b",
      "metadata": {
        "id": "4592e16b"
      },
      "outputs": [],
      "source": [
        "def squareAndSum(list1,list2):\n",
        "  total = 0\n",
        "  for i in range(len(list1)):\n",
        "    total = total + list1[i]*list2[i]\n",
        "  return total"
      ]
    },
    {
      "cell_type": "code",
      "execution_count": 42,
      "id": "0f0c2852",
      "metadata": {
        "colab": {
          "base_uri": "https://localhost:8080/"
        },
        "id": "0f0c2852",
        "outputId": "de26aed8-7ea7-4ea7-9406-a9fcd314e2c3"
      },
      "outputs": [
        {
          "output_type": "execute_result",
          "data": {
            "text/plain": [
              "268048133"
            ]
          },
          "metadata": {},
          "execution_count": 42
        }
      ],
      "source": [
        "squareAndSum(data['MathSAT'], data['SAT'])"
      ]
    },
    {
      "cell_type": "markdown",
      "source": [
        "Now we will calulate the dot product of MathSAT and SAT from dataframe."
      ],
      "metadata": {
        "id": "YParggjSRc_M"
      },
      "id": "YParggjSRc_M"
    },
    {
      "cell_type": "code",
      "execution_count": 43,
      "id": "fde1f1b4",
      "metadata": {
        "id": "fde1f1b4",
        "colab": {
          "base_uri": "https://localhost:8080/"
        },
        "outputId": "d02edad3-351c-4c0a-b874-9e92584e1cb9"
      },
      "outputs": [
        {
          "output_type": "execute_result",
          "data": {
            "text/plain": [
              "268048133"
            ]
          },
          "metadata": {},
          "execution_count": 43
        }
      ],
      "source": [
        "a = sum(i*j for i, j in zip(data['MathSAT'], data['SAT']))\n",
        "a"
      ]
    },
    {
      "cell_type": "markdown",
      "id": "7fab6d54",
      "metadata": {
        "id": "7fab6d54"
      },
      "source": [
        "The following functions will compute the slope and intercept. We will also compare to the result that we have from scipy."
      ]
    },
    {
      "cell_type": "code",
      "execution_count": 44,
      "id": "5a437abd",
      "metadata": {
        "id": "5a437abd"
      },
      "outputs": [],
      "source": [
        "def slopeNintercept(list1, list2):\n",
        "    n=len(list1)\n",
        "    xBar = sum(list1)/n\n",
        "    yBar = sum(list2)/n\n",
        "    xy = sum(i*j for i,j in zip(list1, list2))\n",
        "    xx = sum(i*i for i in list1)\n",
        "    slope = (xy-n*xBar*yBar)/(xx-n*xBar**2)\n",
        "    intercept = yBar - slope*xBar\n",
        "    return [slope, intercept]"
      ]
    },
    {
      "cell_type": "markdown",
      "source": [
        "output from above function."
      ],
      "metadata": {
        "id": "oxD04WrASPYr"
      },
      "id": "oxD04WrASPYr"
    },
    {
      "cell_type": "code",
      "execution_count": 45,
      "id": "c4a13a6e",
      "metadata": {
        "colab": {
          "base_uri": "https://localhost:8080/"
        },
        "id": "c4a13a6e",
        "outputId": "9ecc2d4a-4ddc-40ab-b1c4-dbf6152ff364"
      },
      "outputs": [
        {
          "output_type": "execute_result",
          "data": {
            "text/plain": [
              "1.4814731127631662"
            ]
          },
          "metadata": {},
          "execution_count": 45
        }
      ],
      "source": [
        "slope = slopeNintercept(data['MathSAT'], data['SAT'])[0]\n",
        "slope"
      ]
    },
    {
      "cell_type": "markdown",
      "source": [
        "output from scipy library."
      ],
      "metadata": {
        "id": "SXr9-_3pSSGV"
      },
      "id": "SXr9-_3pSSGV"
    },
    {
      "cell_type": "code",
      "source": [
        "print(stats.linregress(data['MathSAT'], data['SAT'])[0])"
      ],
      "metadata": {
        "colab": {
          "base_uri": "https://localhost:8080/"
        },
        "id": "cex-vjgwSU2c",
        "outputId": "19db076b-add3-43e9-e586-ecdad89fdb44"
      },
      "id": "cex-vjgwSU2c",
      "execution_count": 46,
      "outputs": [
        {
          "output_type": "stream",
          "name": "stdout",
          "text": [
            "1.4814731127631733\n"
          ]
        }
      ]
    },
    {
      "cell_type": "code",
      "execution_count": 47,
      "id": "415884fb",
      "metadata": {
        "colab": {
          "base_uri": "https://localhost:8080/"
        },
        "id": "415884fb",
        "outputId": "a4c28543-1821-4f61-9835-e85eec1c7d6e"
      },
      "outputs": [
        {
          "output_type": "stream",
          "name": "stdout",
          "text": [
            "Scipy: 300.7633363387839\n",
            "Function: "
          ]
        },
        {
          "output_type": "execute_result",
          "data": {
            "text/plain": [
              "300.76333633878824"
            ]
          },
          "metadata": {},
          "execution_count": 47
        }
      ],
      "source": [
        "intercept = slopeNintercept(data['MathSAT'], data['SAT'])[1]\n",
        "print(\"Scipy: \", end = \"\")\n",
        "print(stats.linregress(data['MathSAT'], data['SAT'])[1])\n",
        "print(\"Function: \", end = \"\")\n",
        "intercept"
      ]
    },
    {
      "cell_type": "markdown",
      "id": "9ca9cc48",
      "metadata": {
        "id": "9ca9cc48"
      },
      "source": [
        "Very close. Since this is linear, the general form of the function would be f(x)=ax+b."
      ]
    },
    {
      "cell_type": "code",
      "execution_count": 48,
      "id": "3f8101f7",
      "metadata": {
        "colab": {
          "base_uri": "https://localhost:8080/"
        },
        "id": "3f8101f7",
        "outputId": "f3fccc4f-fb7c-4856-b07a-adf826b5c54a"
      },
      "outputs": [
        {
          "output_type": "execute_result",
          "data": {
            "text/plain": [
              "308.1707019026041"
            ]
          },
          "metadata": {},
          "execution_count": 48
        }
      ],
      "source": [
        "def f(x):\n",
        "    return slope*x+intercept\n",
        "\n",
        "f(5)"
      ]
    },
    {
      "cell_type": "markdown",
      "source": [
        "lets plot a scatter plot of the 'MathSAT' and 'SAT' using dataframe data and general form of function defined above."
      ],
      "metadata": {
        "id": "3WcDWjwTTaVl"
      },
      "id": "3WcDWjwTTaVl"
    },
    {
      "cell_type": "code",
      "execution_count": 49,
      "id": "ad897568",
      "metadata": {
        "colab": {
          "base_uri": "https://localhost:8080/",
          "height": 432
        },
        "id": "ad897568",
        "outputId": "3697c8eb-f986-44f7-fe28-4d7f5f139269"
      },
      "outputs": [
        {
          "output_type": "display_data",
          "data": {
            "text/plain": [
              "<Figure size 640x480 with 1 Axes>"
            ],
            "image/png": "[encoded data removed]"
          },
          "metadata": {}
        }
      ],
      "source": [
        "x = np.arange( 0,500,1)\n",
        "plt.scatter(data[\"MathSAT\"],data[\"SAT\"])\n",
        "plt.plot(x,f(x))\n",
        "\n",
        "plt.show()"
      ]
    },
    {
      "cell_type": "markdown",
      "source": [
        "Now let us calculate the sum of the squared residuals between the observed 'MathSAT' values and the predicted values from above functions."
      ],
      "metadata": {
        "id": "jxkbw3EaTukh"
      },
      "id": "jxkbw3EaTukh"
    },
    {
      "cell_type": "code",
      "execution_count": 50,
      "id": "2badb9de",
      "metadata": {
        "colab": {
          "base_uri": "https://localhost:8080/"
        },
        "id": "2badb9de",
        "outputId": "5a559c8e-4ea1-4824-e850-1e1a9398f6d9"
      },
      "outputs": [
        {
          "output_type": "execute_result",
          "data": {
            "text/plain": [
              "792923338.5595489"
            ]
          },
          "metadata": {},
          "execution_count": 50
        }
      ],
      "source": [
        "#Sum of squared residuals\n",
        "residualsSquareSum = 0\n",
        "for i in range(0, len(data['SAT'])):\n",
        "    residualsSquareSum = residualsSquareSum + (f(data['SAT'][i]) - data['MathSAT'][i])**2\n",
        "    \n",
        "residualsSquareSum"
      ]
    },
    {
      "cell_type": "markdown",
      "id": "c20a0bfe",
      "metadata": {
        "id": "c20a0bfe"
      },
      "source": [
        "# Non-linear Regression"
      ]
    },
    {
      "cell_type": "markdown",
      "id": "07ef757a",
      "metadata": {
        "id": "07ef757a"
      },
      "source": [
        "Since the year is represented at classificaion, I'll translate into number. Another row that we'll use is still SAT. Let's make an intial assumption that their funtion is quadtric."
      ]
    },
    {
      "cell_type": "code",
      "execution_count": 51,
      "id": "375575e1",
      "metadata": {
        "id": "375575e1"
      },
      "outputs": [],
      "source": [
        "year = []\n",
        "\n",
        "for i in range(len(data['Year'])):\n",
        "    if (data['Year'][i] == \"Freshman\" or data['Year'][i] == \"FirstYear\"):\n",
        "        year.append(1)\n",
        "    elif (data['Year'][i] == \"Sophomore\"):\n",
        "        year.append(2)\n",
        "    elif (data['Year'][i] == \"Junior\"):\n",
        "        year.append(3)\n",
        "    elif (data['Year'][i] == \"Senior\"):\n",
        "        year.append(4)\n",
        "    else:\n",
        "        year.append(0)"
      ]
    },
    {
      "cell_type": "code",
      "execution_count": 52,
      "id": "7c1a9756",
      "metadata": {
        "colab": {
          "base_uri": "https://localhost:8080/",
          "height": 430
        },
        "id": "7c1a9756",
        "outputId": "9f6e0e08-38cc-4594-c215-f7a73ac640a2"
      },
      "outputs": [
        {
          "output_type": "display_data",
          "data": {
            "text/plain": [
              "<Figure size 640x480 with 1 Axes>"
            ],
            "image/png": "[encoded data removed]"
          },
          "metadata": {}
        }
      ],
      "source": [
        "plt.scatter(year, data['SAT'])\n",
        "plt.show()"
      ]
    },
    {
      "cell_type": "markdown",
      "source": [
        "When we see the above scatter plot we can see that the Sophomore students tend to give more SAT and also tend to score higher."
      ],
      "metadata": {
        "id": "TgZJ-JFXmdV6"
      },
      "id": "TgZJ-JFXmdV6"
    },
    {
      "cell_type": "code",
      "execution_count": 53,
      "id": "3ca47e73",
      "metadata": {
        "colab": {
          "base_uri": "https://localhost:8080/"
        },
        "id": "3ca47e73",
        "outputId": "697b070d-842f-4c19-c8b8-213ce2348109"
      },
      "outputs": [
        {
          "output_type": "stream",
          "name": "stdout",
          "text": [
            "Coefficients: [ 2.91116817e+03  2.32539718e+00  1.15424197e+00 -1.57902433e-03]\n"
          ]
        }
      ],
      "source": [
        "from pandas._libs.tslibs.offsets import YearBegin\n",
        "# Convert the 'Year' column from string to integer\n",
        "data['SAT'] = data['SAT'].astype(int)\n",
        "\n",
        "# Convert the 'Year' column from strings to numbers using the dictionary\n",
        "def convert_year(year):\n",
        "  if (year == \"Freshman\" or year == \"FirstYear\"):\n",
        "        return 1\n",
        "  elif (year == \"Sophomore\"):\n",
        "      return 2\n",
        "  elif (year == \"Junior\"):\n",
        "      return 3\n",
        "  elif (year == \"Senior\"):\n",
        "      return 4\n",
        "  else:\n",
        "      return 0\n",
        "data['Year'] = data['Year'].apply(convert_year)\n",
        "# Calculate the necessary sums\n",
        "n = len(data['SAT'])\n",
        "sum_y = sum(data['Year'])\n",
        "sum_y2 = sum(data['Year']**2)\n",
        "sum_sy = sum(data['SAT']*data['Year'])\n",
        "sum_sy2 = sum(data['SAT']*data['Year']**2)\n",
        "\n",
        "# Create the 4x4 matrix\n",
        "matrix = [[n, sum_y, sum_y2, sum_y**3],\n",
        "          [sum_y, sum_y2, sum_y**3, sum_y**4],\n",
        "          [sum_y2, sum_y**3, sum_y**4, sum_y**5],\n",
        "          [sum_y**3, sum_y**4, sum_y**5, sum_y**6]]\n",
        "\n",
        "# Create the vector of constants\n",
        "constants = [sum(data['SAT']), sum_sy, sum_sy2, sum_y**2*sum_sy2]\n",
        "\n",
        "# Solve the matrix equation\n",
        "coeffs = np.linalg.solve(matrix, constants)\n",
        "\n",
        "# Print the coefficients\n",
        "print(\"Coefficients:\", coeffs)"
      ]
    },
    {
      "cell_type": "code",
      "source": [
        "# Creating the regression line\n",
        "x = np.linspace(min(data['Year']), max(data['Year']), 100)\n",
        "y = coeffs[0] + coeffs[1]*x + coeffs[2]*x**2 + coeffs[3]*x**3\n",
        "\n",
        "# Plotting the data and regression in the same window\n",
        "plt.scatter(data['Year'], data['SAT'])\n",
        "plt.plot(x, y, color='red')\n",
        "plt.xlabel('Year')\n",
        "plt.ylabel('SAT Score')\n",
        "plt.title('SAT Scores by Year')\n",
        "plt.show()"
      ],
      "metadata": {
        "colab": {
          "base_uri": "https://localhost:8080/",
          "height": 472
        },
        "id": "sLMleuV61O_2",
        "outputId": "5848fb6a-1bc0-4240-856c-c95624ebce39"
      },
      "id": "sLMleuV61O_2",
      "execution_count": 54,
      "outputs": [
        {
          "output_type": "display_data",
          "data": {
            "text/plain": [
              "<Figure size 640x480 with 1 Axes>"
            ],
            "image/png": "[encoded data removed]"
          },
          "metadata": {}
        }
      ]
    },
    {
      "cell_type": "markdown",
      "source": [
        "As the relationship between Year and SAT score is nonlinear and assumed that it is quadratic that might be the reason why the red line is going extend beyond the higher SAT score than what is in the data. "
      ],
      "metadata": {
        "id": "c05N17pb2amp"
      },
      "id": "c05N17pb2amp"
    },
    {
      "cell_type": "markdown",
      "source": [
        "\n",
        "\"REPORT\"\n",
        "\n",
        "  \"In our findings using MathSAT and SAT as are linear regression variables. We found that the two have a positive relationship, as seen in the scatter plot.\"\n",
        "  \"When we ran  linear regression on the two variables are equation came out to be about y = 1.4815x + 300.763, which when rounded is the same as what scipy found.\"\n",
        "  \"We discovered that our model explains about 83.66% of the variance in the total SAT score. We believe that linear regression was appropriate in this case.\"\n",
        "  \"The reason we believe our model is a good fit for the data is because it explains much of the variance. Next, we will interpret the slop and intercept of our equation.\"\n",
        "  \"With regards to are slope, we found that for every 1 point increase in the MathSAT section, the total SAT score will increase by about 1.48 points. As for the intercept, when MathSAT score is 0, then the total SAT score is about 301 points.\"\n",
        "  \"For the nonlinear regression, we used SAT and years as are variables. When we plotted the data we saw that Sophormore students tended to take the SAT more and score higher then other years.\"\n",
        "  \"As for our nonlinear regression line, it did not really fit the data. The reason might be the relationship between Year and SAT score is nonlinear and assumed to be quadratic.\"\n",
        "  \"The tools we used to solve this problem were the sums and matrices. We used a matrix and vector of constants to set up the problem, after we solved the matrix and found the cofficients.\"\n",
        "}"
      ],
      "metadata": {
        "id": "Jb9EbwslYtsN"
      },
      "id": "Jb9EbwslYtsN"
    },
    {
      "cell_type": "code",
      "source": [],
      "metadata": {
        "id": "bwWYHEoNYwIk"
      },
      "id": "bwWYHEoNYwIk",
      "execution_count": null,
      "outputs": []
    }
  ],
  "metadata": {
    "kernelspec": {
      "display_name": "Python 3 (ipykernel)",
      "language": "python",
      "name": "python3"
    },
    "language_info": {
      "codemirror_mode": {
        "name": "ipython",
        "version": 3
      },
      "file_extension": ".py",
      "mimetype": "text/x-python",
      "name": "python",
      "nbconvert_exporter": "python",
      "pygments_lexer": "ipython3",
      "version": "3.9.13"
    },
    "colab": {
      "provenance": [],
      "include_colab_link": true
    }
  },
  "nbformat": 4,
  "nbformat_minor": 5
}