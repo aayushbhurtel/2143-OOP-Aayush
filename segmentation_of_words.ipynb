{
  "nbformat": 4,
  "nbformat_minor": 0,
  "metadata": {
    "colab": {
      "provenance": [],
      "authorship_tag": "ABX9TyOY7a2B1jYk2WkzlwDK265z"
    },
    "kernelspec": {
      "name": "python3",
      "display_name": "Python 3"
    },
    "language_info": {
      "name": "python"
    }
  },
  "cells": [
    {
      "cell_type": "code",
      "execution_count": 1,
      "metadata": {
        "colab": {
          "base_uri": "https://localhost:8080/"
        },
        "id": "MiMnqEv6Znt_",
        "outputId": "a435ab64-53b4-490b-fa8a-b017a457e6ea"
      },
      "outputs": [
        {
          "output_type": "stream",
          "name": "stdout",
          "text": [
            "Collecting wordfreq\n",
            "  Downloading wordfreq-3.1.1-py3-none-any.whl.metadata (27 kB)\n",
            "Collecting ftfy>=6.1 (from wordfreq)\n",
            "  Downloading ftfy-6.3.1-py3-none-any.whl.metadata (7.3 kB)\n",
            "Requirement already satisfied: langcodes>=3.0 in /usr/local/lib/python3.11/dist-packages (from wordfreq) (3.5.0)\n",
            "Collecting locate<2.0.0,>=1.1.1 (from wordfreq)\n",
            "  Downloading locate-1.1.1-py3-none-any.whl.metadata (3.9 kB)\n",
            "Requirement already satisfied: msgpack<2.0.0,>=1.0.7 in /usr/local/lib/python3.11/dist-packages (from wordfreq) (1.1.1)\n",
            "Requirement already satisfied: regex>=2023.10.3 in /usr/local/lib/python3.11/dist-packages (from wordfreq) (2024.11.6)\n",
            "Requirement already satisfied: wcwidth in /usr/local/lib/python3.11/dist-packages (from ftfy>=6.1->wordfreq) (0.2.13)\n",
            "Requirement already satisfied: language-data>=1.2 in /usr/local/lib/python3.11/dist-packages (from langcodes>=3.0->wordfreq) (1.3.0)\n",
            "Requirement already satisfied: marisa-trie>=1.1.0 in /usr/local/lib/python3.11/dist-packages (from language-data>=1.2->langcodes>=3.0->wordfreq) (1.2.1)\n",
            "Requirement already satisfied: setuptools in /usr/local/lib/python3.11/dist-packages (from marisa-trie>=1.1.0->language-data>=1.2->langcodes>=3.0->wordfreq) (75.2.0)\n",
            "Downloading wordfreq-3.1.1-py3-none-any.whl (56.8 MB)\n",
            "\u001b[2K   \u001b[90m━━━━━━━━━━━━━━━━━━━━━━━━━━━━━━━━━━━━━━━━\u001b[0m \u001b[32m56.8/56.8 MB\u001b[0m \u001b[31m12.0 MB/s\u001b[0m eta \u001b[36m0:00:00\u001b[0m\n",
            "\u001b[?25hDownloading ftfy-6.3.1-py3-none-any.whl (44 kB)\n",
            "\u001b[2K   \u001b[90m━━━━━━━━━━━━━━━━━━━━━━━━━━━━━━━━━━━━━━━━\u001b[0m \u001b[32m44.8/44.8 kB\u001b[0m \u001b[31m2.6 MB/s\u001b[0m eta \u001b[36m0:00:00\u001b[0m\n",
            "\u001b[?25hDownloading locate-1.1.1-py3-none-any.whl (5.4 kB)\n",
            "Installing collected packages: locate, ftfy, wordfreq\n",
            "Successfully installed ftfy-6.3.1 locate-1.1.1 wordfreq-3.1.1\n",
            "['the', 'longest', 'list', 'of', 'the', 'longest', 'stuff', 'at', 'the', 'longest', 'domain', 'name', 'at', 'long', 'last', '.com']\n"
          ]
        }
      ],
      "source": [
        "!pip install wordfreq\n",
        "import math\n",
        "from wordfreq import word_frequency\n",
        "\n",
        "# Word cost using -log(prob) with strong penalty for unknowns\n",
        "def word_cost(word):\n",
        "    prob = word_frequency(word, 'en')\n",
        "    if prob > 1e-9:\n",
        "        return -math.log(prob)\n",
        "    else:\n",
        "        return 30 + len(word)  # strong penalty for unknown word length\n",
        "\n",
        "# Viterbi-based word segmentation\n",
        "def segment(text):\n",
        "    n = len(text)\n",
        "    cost = [0.0] * (n + 1)\n",
        "    backtrace = [0] * (n + 1)\n",
        "\n",
        "    for i in range(1, n + 1):\n",
        "        candidates = []\n",
        "        for j in range(max(0, i - 20), i):\n",
        "            word = text[j:i]\n",
        "            c = cost[j] + word_cost(word)\n",
        "            candidates.append((c, j))\n",
        "        cost[i], backtrace[i] = min(candidates)\n",
        "\n",
        "    # Reconstruct the best segmentation\n",
        "    words = []\n",
        "    i = n\n",
        "    while i > 0:\n",
        "        j = backtrace[i]\n",
        "        words.append(text[j:i])\n",
        "        i = j\n",
        "    return words[::-1]\n",
        "\n",
        "# Test input\n",
        "text = \"thelongestlistofthelongeststuffatthelongestdomainnameatlonglast.com\"\n",
        "print(segment(text))"
      ]
    },
    {
      "cell_type": "code",
      "source": [
        "print(segment(text))"
      ],
      "metadata": {
        "colab": {
          "base_uri": "https://localhost:8080/"
        },
        "id": "B7QjomzFZ0Vr",
        "outputId": "8dfdd1a0-f53a-4318-be5e-15a156728593"
      },
      "execution_count": 2,
      "outputs": [
        {
          "output_type": "stream",
          "name": "stdout",
          "text": [
            "['the', 'longest', 'list', 'of', 'the', 'longest', 'stuff', 'at', 'the', 'longest', 'domain', 'name', 'at', 'long', 'last', '.com']\n"
          ]
        }
      ]
    }
  ]
}